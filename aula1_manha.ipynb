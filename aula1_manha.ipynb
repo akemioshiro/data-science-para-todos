{
 "cells": [
  {
   "cell_type": "code",
   "execution_count": 3,
   "metadata": {},
   "outputs": [
    {
     "name": "stdout",
     "output_type": "stream",
     "text": [
      "Hello World\n"
     ]
    }
   ],
   "source": [
    "print(\"Hello World\")"
   ]
  },
  {
   "cell_type": "code",
   "execution_count": 2,
   "metadata": {},
   "outputs": [
    {
     "data": {
      "text/plain": [
       "1"
      ]
     },
     "execution_count": 2,
     "metadata": {},
     "output_type": "execute_result"
    }
   ],
   "source": [
    "1"
   ]
  },
  {
   "cell_type": "code",
   "execution_count": 4,
   "metadata": {},
   "outputs": [
    {
     "name": "stdout",
     "output_type": "stream",
     "text": [
      "olá mundo\n",
      "lalala\n"
     ]
    }
   ],
   "source": [
    "print(\"olá mundo\")\n",
    "print(\"lalala\")"
   ]
  },
  {
   "cell_type": "code",
   "execution_count": 5,
   "metadata": {},
   "outputs": [
    {
     "name": "stdout",
     "output_type": "stream",
     "text": [
      "10\n"
     ]
    },
    {
     "data": {
      "text/plain": [
       "2.5"
      ]
     },
     "execution_count": 5,
     "metadata": {},
     "output_type": "execute_result"
    }
   ],
   "source": [
    "print(10)\n",
    "2.5"
   ]
  },
  {
   "cell_type": "code",
   "execution_count": 6,
   "metadata": {},
   "outputs": [
    {
     "data": {
      "text/plain": [
       "1.0"
      ]
     },
     "execution_count": 6,
     "metadata": {},
     "output_type": "execute_result"
    }
   ],
   "source": [
    "2.4//2"
   ]
  },
  {
   "cell_type": "code",
   "execution_count": 7,
   "metadata": {},
   "outputs": [
    {
     "data": {
      "text/plain": [
       "-3"
      ]
     },
     "execution_count": 7,
     "metadata": {},
     "output_type": "execute_result"
    }
   ],
   "source": [
    "1-4"
   ]
  },
  {
   "cell_type": "code",
   "execution_count": 9,
   "metadata": {},
   "outputs": [
    {
     "data": {
      "text/plain": [
       "16"
      ]
     },
     "execution_count": 9,
     "metadata": {},
     "output_type": "execute_result"
    }
   ],
   "source": [
    "#potencia\n",
    "4**2"
   ]
  },
  {
   "cell_type": "code",
   "execution_count": 11,
   "metadata": {},
   "outputs": [
    {
     "data": {
      "text/plain": [
       "1"
      ]
     },
     "execution_count": 11,
     "metadata": {},
     "output_type": "execute_result"
    }
   ],
   "source": [
    "#resto de divisao\n",
    "4%3"
   ]
  },
  {
   "cell_type": "code",
   "execution_count": 15,
   "metadata": {},
   "outputs": [
    {
     "name": "stdout",
     "output_type": "stream",
     "text": [
      "4\n"
     ]
    },
    {
     "ename": "ZeroDivisionError",
     "evalue": "division by zero",
     "output_type": "error",
     "traceback": [
      "\u001b[0;31m---------------------------------------------------------------------------\u001b[0m",
      "\u001b[0;31mZeroDivisionError\u001b[0m                         Traceback (most recent call last)",
      "\u001b[0;32m<ipython-input-15-9e1ad173799f>\u001b[0m in \u001b[0;36m<module>\u001b[0;34m\u001b[0m\n\u001b[1;32m      1\u001b[0m \u001b[0;31m# mensagens de erro sao amigas\u001b[0m\u001b[0;34m\u001b[0m\u001b[0;34m\u001b[0m\u001b[0m\n\u001b[1;32m      2\u001b[0m \u001b[0mprint\u001b[0m\u001b[0;34m(\u001b[0m\u001b[0;36m2\u001b[0m\u001b[0;34m+\u001b[0m\u001b[0;36m2\u001b[0m\u001b[0;34m)\u001b[0m\u001b[0;34m\u001b[0m\u001b[0m\n\u001b[0;32m----> 3\u001b[0;31m \u001b[0;36m1\u001b[0m\u001b[0;34m/\u001b[0m\u001b[0;36m0\u001b[0m\u001b[0;34m\u001b[0m\u001b[0m\n\u001b[0m\u001b[1;32m      4\u001b[0m \u001b[0mprint\u001b[0m\u001b[0;34m(\u001b[0m\u001b[0;34m\"aaaa\"\u001b[0m\u001b[0;34m)\u001b[0m\u001b[0;34m\u001b[0m\u001b[0m\n",
      "\u001b[0;31mZeroDivisionError\u001b[0m: division by zero"
     ]
    }
   ],
   "source": [
    "# mensagens de erro sao amigas\n",
    "print(2+2)\n",
    "1/0\n",
    "print(\"aaaa\")"
   ]
  },
  {
   "cell_type": "code",
   "execution_count": 16,
   "metadata": {},
   "outputs": [
    {
     "name": "stdout",
     "output_type": "stream",
     "text": [
      "lalalala\n"
     ]
    }
   ],
   "source": [
    "print(\"lalalala\")"
   ]
  },
  {
   "cell_type": "markdown",
   "metadata": {},
   "source": []
  },
  {
   "cell_type": "code",
   "execution_count": 17,
   "metadata": {},
   "outputs": [
    {
     "data": {
      "text/plain": [
       "100"
      ]
     },
     "execution_count": 17,
     "metadata": {},
     "output_type": "execute_result"
    }
   ],
   "source": [
    "saudacao = 10 * 10\n",
    "saudacao"
   ]
  },
  {
   "cell_type": "code",
   "execution_count": 18,
   "metadata": {},
   "outputs": [],
   "source": [
    "saudacao = 1"
   ]
  },
  {
   "cell_type": "code",
   "execution_count": 19,
   "metadata": {},
   "outputs": [
    {
     "data": {
      "text/plain": [
       "1"
      ]
     },
     "execution_count": 19,
     "metadata": {},
     "output_type": "execute_result"
    }
   ],
   "source": [
    "saudacao"
   ]
  },
  {
   "cell_type": "code",
   "execution_count": 20,
   "metadata": {},
   "outputs": [
    {
     "name": "stdout",
     "output_type": "stream",
     "text": [
      "1\n"
     ]
    }
   ],
   "source": [
    "print(saudacao)"
   ]
  },
  {
   "cell_type": "code",
   "execution_count": 24,
   "metadata": {},
   "outputs": [],
   "source": [
    "x = 1208 #wrong\n",
    "ano_de_nascimento = 1298 #correct\n",
    "funcionaNomeCamelCase = \"mas nao é o sugerido\""
   ]
  },
  {
   "cell_type": "code",
   "execution_count": 29,
   "metadata": {},
   "outputs": [
    {
     "name": "stdout",
     "output_type": "stream",
     "text": [
      "<class 'int'>\n",
      "<class 'str'>\n",
      "<class 'float'>\n"
     ]
    }
   ],
   "source": [
    "tipo_nome = type(saudacao)\n",
    "print(tipo_nome)\n",
    "print(type(funcionaNomeCamelCase))\n",
    "print((type(6.3/9)))"
   ]
  },
  {
   "cell_type": "code",
   "execution_count": 30,
   "metadata": {},
   "outputs": [
    {
     "name": "stdout",
     "output_type": "stream",
     "text": [
      "12\n"
     ]
    }
   ],
   "source": [
    "soma_de_string = str(1) + str(2)\n",
    "print(soma_de_string)"
   ]
  },
  {
   "cell_type": "code",
   "execution_count": 31,
   "metadata": {},
   "outputs": [
    {
     "name": "stdout",
     "output_type": "stream",
     "text": [
      "12\n",
      "3.3\n",
      "3\n"
     ]
    }
   ],
   "source": [
    "print(soma_de_string)\n",
    "print(float(\"1.2\") + float(\"2.1\"))\n",
    "print(int(\"1\") + int(\"2\"))"
   ]
  },
  {
   "cell_type": "code",
   "execution_count": 32,
   "metadata": {},
   "outputs": [
    {
     "name": "stdout",
     "output_type": "stream",
     "text": [
      "12\n"
     ]
    },
    {
     "data": {
      "text/plain": [
       "str"
      ]
     },
     "execution_count": 32,
     "metadata": {},
     "output_type": "execute_result"
    }
   ],
   "source": [
    "soma_texto = \"1\" + \"2\"\n",
    "print(soma_texto)\n",
    "type(soma_texto)"
   ]
  },
  {
   "cell_type": "code",
   "execution_count": 35,
   "metadata": {},
   "outputs": [
    {
     "name": "stdout",
     "output_type": "stream",
     "text": [
      "escrito por ele\n",
      " assim posso escrever\n",
      "fsfsfds\n",
      "\n",
      "fsdfsfds\n",
      "\n",
      "fsdfsdf\n",
      "lalala \n"
     ]
    }
   ],
   "source": [
    "texto = \"escrito por ele\"\n",
    "# pode ser usado para documentar e tambem para executar queries\n",
    "texto_grande = \"\"\" assim posso escrever\n",
    "fsfsfds\n",
    "\n",
    "fsdfsfds\n",
    "\n",
    "fsdfsdf\n",
    "lalala \"\"\"\n",
    "print(texto)\n",
    "print(texto_grande)"
   ]
  },
  {
   "cell_type": "code",
   "execution_count": 38,
   "metadata": {},
   "outputs": [
    {
     "name": "stdout",
     "output_type": "stream",
     "text": [
      "meu nome é: patricia e o resultado da soma é 10\n"
     ]
    }
   ],
   "source": [
    "mensagem_resultado = \"meu nome é: {} e o resultado da soma é {}\"\n",
    "print(mensagem_resultado.format(\"patricia\", 10))\n"
   ]
  },
  {
   "cell_type": "code",
   "execution_count": 39,
   "metadata": {},
   "outputs": [
    {
     "name": "stdout",
     "output_type": "stream",
     "text": [
      "ola! eu sou a patricia, tenho 34 anos e cursei ciencias da computação na faculdade\n"
     ]
    }
   ],
   "source": [
    "frase_saudacao = \"ola! eu sou a {}, tenho {} anos e cursei {} na faculdade\"\n",
    "print(frase_saudacao.format(\"patricia\", 34, \"ciencias da computação\"))"
   ]
  },
  {
   "cell_type": "code",
   "execution_count": 40,
   "metadata": {},
   "outputs": [],
   "source": [
    "mensagem_resultado.strip?"
   ]
  },
  {
   "cell_type": "code",
   "execution_count": 41,
   "metadata": {},
   "outputs": [
    {
     "name": "stdout",
     "output_type": "stream",
     "text": [
      "No Python documentation found for 'meu nome é: {} e o resultado da soma é {}'.\n",
      "Use help() to get the interactive help utility.\n",
      "Use help(str) for help on the str class.\n",
      "\n"
     ]
    }
   ],
   "source": [
    "help(mensagem_resultado)"
   ]
  },
  {
   "cell_type": "code",
   "execution_count": 42,
   "metadata": {},
   "outputs": [
    {
     "name": "stdout",
     "output_type": "stream",
     "text": [
      "30\n"
     ]
    }
   ],
   "source": [
    "idade = 30\n",
    "idade + 10\n",
    "print(idade)"
   ]
  },
  {
   "cell_type": "code",
   "execution_count": 43,
   "metadata": {},
   "outputs": [
    {
     "name": "stdout",
     "output_type": "stream",
     "text": [
      "31\n"
     ]
    }
   ],
   "source": [
    "idade = idade + 1\n",
    "print(idade)"
   ]
  },
  {
   "cell_type": "code",
   "execution_count": 46,
   "metadata": {},
   "outputs": [
    {
     "data": {
      "text/plain": [
       "34"
      ]
     },
     "execution_count": 46,
     "metadata": {},
     "output_type": "execute_result"
    }
   ],
   "source": [
    "idade +=1\n",
    "idade"
   ]
  },
  {
   "cell_type": "markdown",
   "metadata": {},
   "source": []
  },
  {
   "cell_type": "code",
   "execution_count": 48,
   "metadata": {},
   "outputs": [
    {
     "name": "stdout",
     "output_type": "stream",
     "text": [
      "olá mickey\n"
     ]
    }
   ],
   "source": [
    "nome = \"mickey\"\n",
    "print(\"olá \" + nome)"
   ]
  },
  {
   "cell_type": "code",
   "execution_count": 49,
   "metadata": {},
   "outputs": [
    {
     "name": "stdout",
     "output_type": "stream",
     "text": [
      "mickey |  |  | \n"
     ]
    }
   ],
   "source": [
    "separador = \" | \"\n",
    "print(nome + separador * 3)"
   ]
  },
  {
   "cell_type": "code",
   "execution_count": 50,
   "metadata": {},
   "outputs": [
    {
     "name": "stdout",
     "output_type": "stream",
     "text": [
      "joao 29\n"
     ]
    }
   ],
   "source": [
    "nome, idade = \"joao\", 29 # a ordem importa\n",
    "print(nome, idade)"
   ]
  },
  {
   "cell_type": "code",
   "execution_count": 51,
   "metadata": {},
   "outputs": [
    {
     "name": "stdout",
     "output_type": "stream",
     "text": [
      "primeiro segundo\n"
     ]
    }
   ],
   "source": [
    "primeiro, segundo = \"primeiro\", \"segundo\"\n",
    "print(primeiro, segundo)"
   ]
  },
  {
   "cell_type": "code",
   "execution_count": 60,
   "metadata": {},
   "outputs": [
    {
     "data": {
      "text/plain": [
       "tuple"
      ]
     },
     "execution_count": 60,
     "metadata": {},
     "output_type": "execute_result"
    }
   ],
   "source": [
    "variaveis = 1,2 #tupla\n",
    "variaveis\n",
    "type(variaveis)"
   ]
  },
  {
   "cell_type": "code",
   "execution_count": 56,
   "metadata": {},
   "outputs": [
    {
     "ename": "ValueError",
     "evalue": "not enough values to unpack (expected 3, got 2)",
     "output_type": "error",
     "traceback": [
      "\u001b[0;31m---------------------------------------------------------------------------\u001b[0m",
      "\u001b[0;31mValueError\u001b[0m                                Traceback (most recent call last)",
      "\u001b[0;32m<ipython-input-56-8115f09f8a79>\u001b[0m in \u001b[0;36m<module>\u001b[0;34m\u001b[0m\n\u001b[0;32m----> 1\u001b[0;31m \u001b[0mvariavel1\u001b[0m\u001b[0;34m,\u001b[0m \u001b[0mx\u001b[0m\u001b[0;34m,\u001b[0m \u001b[0my\u001b[0m \u001b[0;34m=\u001b[0m \u001b[0;36m1\u001b[0m\u001b[0;34m,\u001b[0m \u001b[0;36m3\u001b[0m\u001b[0;34m\u001b[0m\u001b[0m\n\u001b[0m\u001b[1;32m      2\u001b[0m \u001b[0mvariavel\u001b[0m\u001b[0;34m\u001b[0m\u001b[0m\n",
      "\u001b[0;31mValueError\u001b[0m: not enough values to unpack (expected 3, got 2)"
     ]
    }
   ],
   "source": [
    "variavel1, x, y = 1, 3\n",
    "variavel"
   ]
  },
  {
   "cell_type": "code",
   "execution_count": 59,
   "metadata": {},
   "outputs": [
    {
     "data": {
      "text/plain": [
       "list"
      ]
     },
     "execution_count": 59,
     "metadata": {},
     "output_type": "execute_result"
    }
   ],
   "source": [
    "lista_de_valores = [10, \"a\"]\n",
    "lista_de_valores\n",
    "type(lista_de_valores)"
   ]
  },
  {
   "cell_type": "code",
   "execution_count": 62,
   "metadata": {},
   "outputs": [
    {
     "data": {
      "text/plain": [
       "list"
      ]
     },
     "execution_count": 62,
     "metadata": {},
     "output_type": "execute_result"
    }
   ],
   "source": [
    "ingredientes_do_big_mac = [\"hamburger\", \"alface\", \"queijo\", \"molho especial\", \"cebola\", \"picles\", \"pao com gergelim\"]\n",
    "ingredientes_do_cbo = [\"frango frito\", \"molho\", \"pao com gergelim\"]\n",
    "type(ingredientes_do_big_mac)"
   ]
  },
  {
   "cell_type": "code",
   "execution_count": 63,
   "metadata": {},
   "outputs": [
    {
     "data": {
      "text/plain": [
       "'mesa'"
      ]
     },
     "execution_count": 63,
     "metadata": {},
     "output_type": "execute_result"
    }
   ],
   "source": [
    "lista_itens_sala = [\"cadeira\",\n",
    "                   \"notebooks\",\n",
    "                   \"mouse\",\n",
    "                   \"mesa\",\n",
    "                   \"caderno\",\n",
    "                   \"mochila\",\n",
    "                   \"lousa\",\n",
    "                   \"lousa\",\n",
    "                   \"caneta\",\n",
    "                   \"celular\",\n",
    "                   \"retroprojetor\",\n",
    "                   \"apagador\"]\n",
    "lista_itens_sala[3]"
   ]
  },
  {
   "cell_type": "code",
   "execution_count": 68,
   "metadata": {},
   "outputs": [
    {
     "data": {
      "text/plain": [
       "'cadeira'"
      ]
     },
     "execution_count": 68,
     "metadata": {},
     "output_type": "execute_result"
    }
   ],
   "source": [
    "lista_itens_sala[0]"
   ]
  },
  {
   "cell_type": "code",
   "execution_count": 69,
   "metadata": {},
   "outputs": [
    {
     "data": {
      "text/plain": [
       "'apagador'"
      ]
     },
     "execution_count": 69,
     "metadata": {},
     "output_type": "execute_result"
    }
   ],
   "source": [
    "lista_itens_sala[-1]"
   ]
  },
  {
   "cell_type": "code",
   "execution_count": 72,
   "metadata": {},
   "outputs": [
    {
     "data": {
      "text/plain": [
       "['notebooks', 'mouse', 'mesa', 'caderno']"
      ]
     },
     "execution_count": 72,
     "metadata": {},
     "output_type": "execute_result"
    }
   ],
   "source": [
    "lista_itens_sala[1:5]"
   ]
  },
  {
   "cell_type": "code",
   "execution_count": 73,
   "metadata": {},
   "outputs": [
    {
     "data": {
      "text/plain": [
       "'not'"
      ]
     },
     "execution_count": 73,
     "metadata": {},
     "output_type": "execute_result"
    }
   ],
   "source": [
    "item = lista_itens_sala[1]\n",
    "item[:3]"
   ]
  },
  {
   "cell_type": "code",
   "execution_count": 74,
   "metadata": {},
   "outputs": [
    {
     "data": {
      "text/plain": [
       "['mouse',\n",
       " 'mesa',\n",
       " 'caderno',\n",
       " 'mochila',\n",
       " 'lousa',\n",
       " 'lousa',\n",
       " 'caneta',\n",
       " 'celular',\n",
       " 'retroprojetor',\n",
       " 'apagador']"
      ]
     },
     "execution_count": 74,
     "metadata": {},
     "output_type": "execute_result"
    }
   ],
   "source": [
    "lista_itens_sala[2:]"
   ]
  },
  {
   "cell_type": "code",
   "execution_count": 75,
   "metadata": {},
   "outputs": [
    {
     "data": {
      "text/plain": [
       "['cadeira',\n",
       " 'notebooks',\n",
       " 'mouse',\n",
       " 'mesa',\n",
       " 'caderno',\n",
       " 'mochila',\n",
       " 'lousa',\n",
       " 'lousa',\n",
       " 'caneta',\n",
       " 'celular']"
      ]
     },
     "execution_count": 75,
     "metadata": {},
     "output_type": "execute_result"
    }
   ],
   "source": [
    "lista_itens_sala[:-2]"
   ]
  },
  {
   "cell_type": "code",
   "execution_count": 76,
   "metadata": {},
   "outputs": [
    {
     "data": {
      "text/plain": [
       "6"
      ]
     },
     "execution_count": 76,
     "metadata": {},
     "output_type": "execute_result"
    }
   ],
   "source": [
    "lista_itens_sala.index(\"lousa\")"
   ]
  },
  {
   "cell_type": "code",
   "execution_count": 78,
   "metadata": {},
   "outputs": [
    {
     "data": {
      "text/plain": [
       "['apagador',\n",
       " 'cadeira',\n",
       " 'caderno',\n",
       " 'caneta',\n",
       " 'celular',\n",
       " 'lousa',\n",
       " 'lousa',\n",
       " 'mesa',\n",
       " 'mochila',\n",
       " 'mouse',\n",
       " 'notebooks',\n",
       " 'retroprojetor']"
      ]
     },
     "execution_count": 78,
     "metadata": {},
     "output_type": "execute_result"
    }
   ],
   "source": [
    "lista_itens_sala.sort()\n",
    "lista_itens_sala"
   ]
  },
  {
   "cell_type": "code",
   "execution_count": 80,
   "metadata": {},
   "outputs": [
    {
     "data": {
      "text/plain": [
       "'apaggador'"
      ]
     },
     "execution_count": 80,
     "metadata": {},
     "output_type": "execute_result"
    }
   ],
   "source": [
    "lista_itens_sala[0].replace(\"ag\", \"agg\")"
   ]
  },
  {
   "cell_type": "code",
   "execution_count": 83,
   "metadata": {},
   "outputs": [
    {
     "data": {
      "text/plain": [
       "['apagador',\n",
       " 'cadeira',\n",
       " 'caderno',\n",
       " 'caneta',\n",
       " 'celular',\n",
       " 'lousa',\n",
       " 'lousa',\n",
       " 'mesa',\n",
       " 'mochila',\n",
       " 'mouse',\n",
       " 'notebooks',\n",
       " 'retroprojetor',\n",
       " 'quadro',\n",
       " 'quadro']"
      ]
     },
     "execution_count": 83,
     "metadata": {},
     "output_type": "execute_result"
    }
   ],
   "source": [
    "lista_itens_sala.append(\"quadro\")\n",
    "lista_itens_sala"
   ]
  },
  {
   "cell_type": "code",
   "execution_count": 87,
   "metadata": {},
   "outputs": [
    {
     "data": {
      "text/plain": [
       "139641468854032"
      ]
     },
     "execution_count": 87,
     "metadata": {},
     "output_type": "execute_result"
    }
   ],
   "source": [
    "id(\"quadro\")"
   ]
  },
  {
   "cell_type": "code",
   "execution_count": null,
   "metadata": {},
   "outputs": [],
   "source": [
    "# comando com o pop"
   ]
  },
  {
   "cell_type": "code",
   "execution_count": 90,
   "metadata": {},
   "outputs": [
    {
     "data": {
      "text/plain": [
       "['cortina',\n",
       " 'cortina',\n",
       " 'cortina',\n",
       " 'apagador',\n",
       " 'cadeira',\n",
       " 'caderno',\n",
       " 'caneta',\n",
       " 'celular',\n",
       " 'lousa',\n",
       " 'lousa',\n",
       " 'mesa',\n",
       " 'mochila',\n",
       " 'mouse',\n",
       " 'notebooks',\n",
       " 'retroprojetor',\n",
       " 'quadro']"
      ]
     },
     "execution_count": 90,
     "metadata": {},
     "output_type": "execute_result"
    }
   ],
   "source": [
    "lista_itens_sala.insert(0, \"cortina\")\n",
    "lista_itens_sala.pop()\n",
    "lista_itens_sala"
   ]
  },
  {
   "cell_type": "markdown",
   "metadata": {},
   "source": [
    " lista"
   ]
  },
  {
   "cell_type": "code",
   "execution_count": 92,
   "metadata": {},
   "outputs": [
    {
     "data": {
      "text/plain": [
       "['cortina',\n",
       " 'cortina',\n",
       " 'cortina',\n",
       " 'apagador',\n",
       " 'cadeira',\n",
       " 'caderno',\n",
       " 'caneta',\n",
       " 'celular',\n",
       " 'lousa',\n",
       " 'lousa',\n",
       " 'mesa',\n",
       " 'mochila',\n",
       " 'mouse',\n",
       " 'notebooks',\n",
       " 'retroprojetor',\n",
       " 'quadro']"
      ]
     },
     "execution_count": 92,
     "metadata": {},
     "output_type": "execute_result"
    }
   ],
   "source": [
    "lista_itens_sala.reverse()\n",
    "lista_itens_sala"
   ]
  },
  {
   "cell_type": "code",
   "execution_count": null,
   "metadata": {},
   "outputs": [],
   "source": []
  },
  {
   "cell_type": "code",
   "execution_count": 93,
   "metadata": {},
   "outputs": [
    {
     "data": {
      "text/plain": [
       "'quadro'"
      ]
     },
     "execution_count": 93,
     "metadata": {},
     "output_type": "execute_result"
    }
   ],
   "source": [
    "lista_itens_sala.pop()"
   ]
  },
  {
   "cell_type": "code",
   "execution_count": 94,
   "metadata": {},
   "outputs": [
    {
     "data": {
      "text/plain": [
       "['cortina',\n",
       " 'cortina',\n",
       " 'cortina',\n",
       " 'apagador',\n",
       " 'cadeira',\n",
       " 'caderno',\n",
       " 'caneta',\n",
       " 'celular',\n",
       " 'lousa',\n",
       " 'lousa',\n",
       " 'mesa',\n",
       " 'mochila',\n",
       " 'mouse',\n",
       " 'notebooks',\n",
       " 'retroprojetor']"
      ]
     },
     "execution_count": 94,
     "metadata": {},
     "output_type": "execute_result"
    }
   ],
   "source": [
    "lista_itens_sala"
   ]
  },
  {
   "cell_type": "code",
   "execution_count": 95,
   "metadata": {},
   "outputs": [],
   "source": [
    "alturas = [1.55,1.35,1.75,1.73,1.75]"
   ]
  },
  {
   "cell_type": "code",
   "execution_count": 96,
   "metadata": {},
   "outputs": [],
   "source": [
    "alturas.sort()"
   ]
  },
  {
   "cell_type": "code",
   "execution_count": 97,
   "metadata": {},
   "outputs": [
    {
     "data": {
      "text/plain": [
       "[1.35, 1.55, 1.73, 1.75, 1.75]"
      ]
     },
     "execution_count": 97,
     "metadata": {},
     "output_type": "execute_result"
    }
   ],
   "source": [
    "alturas"
   ]
  },
  {
   "cell_type": "code",
   "execution_count": 100,
   "metadata": {},
   "outputs": [
    {
     "data": {
      "text/plain": [
       "1.35"
      ]
     },
     "execution_count": 100,
     "metadata": {},
     "output_type": "execute_result"
    }
   ],
   "source": [
    "menor_altura = alturas[0]\n",
    "menor_altura"
   ]
  },
  {
   "cell_type": "code",
   "execution_count": 101,
   "metadata": {},
   "outputs": [
    {
     "data": {
      "text/plain": [
       "'a menor altura é 1.35'"
      ]
     },
     "execution_count": 101,
     "metadata": {},
     "output_type": "execute_result"
    }
   ],
   "source": [
    "\"a menor altura é {}\".format(menor_altura)"
   ]
  },
  {
   "cell_type": "code",
   "execution_count": 102,
   "metadata": {},
   "outputs": [
    {
     "data": {
      "text/plain": [
       "8.13"
      ]
     },
     "execution_count": 102,
     "metadata": {},
     "output_type": "execute_result"
    }
   ],
   "source": [
    "alturas[0] + alturas[1]+alturas[2]+alturas[3]+alturas[4]"
   ]
  },
  {
   "cell_type": "code",
   "execution_count": 104,
   "metadata": {},
   "outputs": [
    {
     "data": {
      "text/plain": [
       "8.13"
      ]
     },
     "execution_count": 104,
     "metadata": {},
     "output_type": "execute_result"
    }
   ],
   "source": [
    "sum(alturas)"
   ]
  },
  {
   "cell_type": "code",
   "execution_count": 105,
   "metadata": {},
   "outputs": [
    {
     "data": {
      "text/plain": [
       "1.35"
      ]
     },
     "execution_count": 105,
     "metadata": {},
     "output_type": "execute_result"
    }
   ],
   "source": [
    "min(alturas)"
   ]
  },
  {
   "cell_type": "code",
   "execution_count": 106,
   "metadata": {},
   "outputs": [
    {
     "data": {
      "text/plain": [
       "1.75"
      ]
     },
     "execution_count": 106,
     "metadata": {},
     "output_type": "execute_result"
    }
   ],
   "source": [
    "max(alturas)"
   ]
  },
  {
   "cell_type": "code",
   "execution_count": 107,
   "metadata": {},
   "outputs": [
    {
     "data": {
      "text/plain": [
       "'c'"
      ]
     },
     "execution_count": 107,
     "metadata": {},
     "output_type": "execute_result"
    }
   ],
   "source": [
    "lista_com_letras = [\"a\", \"b\", \"c\"]\n",
    "max(lista_com_letras)"
   ]
  },
  {
   "cell_type": "code",
   "execution_count": 110,
   "metadata": {},
   "outputs": [
    {
     "name": "stdout",
     "output_type": "stream",
     "text": [
      "entrando no for\n",
      "1.7 0\n",
      "1.73 1.7\n",
      "saindo do for\n"
     ]
    },
    {
     "data": {
      "text/plain": [
       "3.4299999999999997"
      ]
     },
     "execution_count": 110,
     "metadata": {},
     "output_type": "execute_result"
    }
   ],
   "source": [
    "alturas = [1.35,1.70,1.73,1.75,1.80]\n",
    "total = 0\n",
    "print(\"entrando no for\")\n",
    "for altura in alturas[1:3]:\n",
    "    print(altura, total)\n",
    "    total+=altura\n",
    "print(\"saindo do for\")\n",
    "total"
   ]
  },
  {
   "cell_type": "code",
   "execution_count": 111,
   "metadata": {},
   "outputs": [
    {
     "name": "stdout",
     "output_type": "stream",
     "text": [
      "alturas em centimetros:  180.0\n",
      "alturas em centimetros:  164.0\n",
      "alturas em centimetros:  174.0\n"
     ]
    },
    {
     "data": {
      "text/plain": [
       "[1.8, 1.64, 1.74]"
      ]
     },
     "execution_count": 111,
     "metadata": {},
     "output_type": "execute_result"
    }
   ],
   "source": [
    "alturas_em_metros = [1.80,1.64,1.74]\n",
    "for altura in alturas_em_metros:\n",
    "    print(\"alturas em centimetros: \", altura * 100)\n",
    "#nao alteramos as alturas na lista, apenas houve a multiplicacao dentro do print\n",
    "alturas_em_metros"
   ]
  },
  {
   "cell_type": "code",
   "execution_count": 112,
   "metadata": {},
   "outputs": [],
   "source": [
    "nome_altura ={\n",
    "    \"Tyrion Lannister\": 1.35,\n",
    "    \"Jon Snow\": 1.73,\n",
    "    \"The Mountain\": 2.06,\n",
    "    \"Wun\":2.16,\n",
    "    \"Tarsis GreyJoy\": 1.00\n",
    "}"
   ]
  },
  {
   "cell_type": "code",
   "execution_count": 113,
   "metadata": {},
   "outputs": [
    {
     "data": {
      "text/plain": [
       "2.16"
      ]
     },
     "execution_count": 113,
     "metadata": {},
     "output_type": "execute_result"
    }
   ],
   "source": [
    "nome_altura[\"Wun\"]"
   ]
  },
  {
   "cell_type": "code",
   "execution_count": 114,
   "metadata": {},
   "outputs": [
    {
     "data": {
      "text/plain": [
       "{'Tyrion Lannister': 1.35,\n",
       " 'Jon Snow': 1.73,\n",
       " 'The Mountain': 2.06,\n",
       " 'Wun': 2.16,\n",
       " 'Tarsis GreyJoy': 1.0}"
      ]
     },
     "execution_count": 114,
     "metadata": {},
     "output_type": "execute_result"
    }
   ],
   "source": [
    "nome_altura"
   ]
  },
  {
   "cell_type": "code",
   "execution_count": 115,
   "metadata": {},
   "outputs": [],
   "source": [
    "dicionario = {\n",
    "    \"nome\": \"Patricia Akemi Oshiro\",\n",
    "    \"email\": \"paoshiro@gmail.com\",\n",
    "    \"idade\": 34,\n",
    "    \"altura\": 1.58\n",
    "}"
   ]
  },
  {
   "cell_type": "code",
   "execution_count": 116,
   "metadata": {},
   "outputs": [
    {
     "data": {
      "text/plain": [
       "1.58"
      ]
     },
     "execution_count": 116,
     "metadata": {},
     "output_type": "execute_result"
    }
   ],
   "source": [
    "dicionario[\"altura\"]"
   ]
  },
  {
   "cell_type": "code",
   "execution_count": 117,
   "metadata": {},
   "outputs": [
    {
     "data": {
      "text/plain": [
       "'Patricia Akemi Oshiro'"
      ]
     },
     "execution_count": 117,
     "metadata": {},
     "output_type": "execute_result"
    }
   ],
   "source": [
    "dicionario[\"nome\"]"
   ]
  },
  {
   "cell_type": "code",
   "execution_count": 118,
   "metadata": {},
   "outputs": [],
   "source": [
    "dicionario[\"nome\"] = \"Patricia Oshiro\""
   ]
  },
  {
   "cell_type": "code",
   "execution_count": 119,
   "metadata": {},
   "outputs": [
    {
     "data": {
      "text/plain": [
       "{'nome': 'Patricia Oshiro',\n",
       " 'email': 'paoshiro@gmail.com',\n",
       " 'idade': 34,\n",
       " 'altura': 1.58}"
      ]
     },
     "execution_count": 119,
     "metadata": {},
     "output_type": "execute_result"
    }
   ],
   "source": [
    "dicionario"
   ]
  },
  {
   "cell_type": "code",
   "execution_count": 120,
   "metadata": {},
   "outputs": [],
   "source": [
    "dicionario[\"idade\"] = 20"
   ]
  },
  {
   "cell_type": "code",
   "execution_count": 121,
   "metadata": {},
   "outputs": [
    {
     "data": {
      "text/plain": [
       "{'nome': 'Patricia Oshiro',\n",
       " 'email': 'paoshiro@gmail.com',\n",
       " 'idade': 20,\n",
       " 'altura': 1.58}"
      ]
     },
     "execution_count": 121,
     "metadata": {},
     "output_type": "execute_result"
    }
   ],
   "source": [
    "dicionario"
   ]
  },
  {
   "cell_type": "code",
   "execution_count": 122,
   "metadata": {},
   "outputs": [
    {
     "data": {
      "text/plain": [
       "'Meu nome é Patricia Oshiro e meu email é o paoshiro@gmail.com'"
      ]
     },
     "execution_count": 122,
     "metadata": {},
     "output_type": "execute_result"
    }
   ],
   "source": [
    "\"Meu nome é {} e meu email é o {}\".format(\n",
    "    dicionario[\"nome\"],\n",
    "    dicionario[\"email\"]\n",
    ")"
   ]
  },
  {
   "cell_type": "code",
   "execution_count": 123,
   "metadata": {},
   "outputs": [],
   "source": [
    "dicionario[\"endereco\"] =  \"Rua Doutor Zuquim\""
   ]
  },
  {
   "cell_type": "code",
   "execution_count": 124,
   "metadata": {},
   "outputs": [],
   "source": [
    "dicionario[\"CEP\"] = \"03961020\""
   ]
  },
  {
   "cell_type": "code",
   "execution_count": 125,
   "metadata": {},
   "outputs": [
    {
     "data": {
      "text/plain": [
       "{'nome': 'Patricia Oshiro',\n",
       " 'email': 'paoshiro@gmail.com',\n",
       " 'idade': 20,\n",
       " 'altura': 1.58,\n",
       " 'endereco': 'Rua Doutor Zuquim',\n",
       " 'CEP': '03961020'}"
      ]
     },
     "execution_count": 125,
     "metadata": {},
     "output_type": "execute_result"
    }
   ],
   "source": [
    "dicionario"
   ]
  },
  {
   "cell_type": "code",
   "execution_count": 126,
   "metadata": {},
   "outputs": [],
   "source": [
    "del dicionario[\"idade\"]"
   ]
  },
  {
   "cell_type": "code",
   "execution_count": 127,
   "metadata": {},
   "outputs": [
    {
     "data": {
      "text/plain": [
       "{'nome': 'Patricia Oshiro',\n",
       " 'email': 'paoshiro@gmail.com',\n",
       " 'altura': 1.58,\n",
       " 'endereco': 'Rua Doutor Zuquim',\n",
       " 'CEP': '03961020'}"
      ]
     },
     "execution_count": 127,
     "metadata": {},
     "output_type": "execute_result"
    }
   ],
   "source": [
    "dicionario"
   ]
  },
  {
   "cell_type": "code",
   "execution_count": 128,
   "metadata": {},
   "outputs": [],
   "source": [
    "aluno1 = {'nome': 'Homer', 'idade': 39}\n",
    "aluno2 = {'nome': 'Marge', 'idade': 38}"
   ]
  },
  {
   "cell_type": "code",
   "execution_count": 129,
   "metadata": {},
   "outputs": [],
   "source": [
    "lista_alunos = [aluno1, aluno2]"
   ]
  },
  {
   "cell_type": "code",
   "execution_count": 130,
   "metadata": {},
   "outputs": [
    {
     "data": {
      "text/plain": [
       "'Homer'"
      ]
     },
     "execution_count": 130,
     "metadata": {},
     "output_type": "execute_result"
    }
   ],
   "source": [
    "lista_alunos[0][\"nome\"]"
   ]
  },
  {
   "cell_type": "code",
   "execution_count": 131,
   "metadata": {},
   "outputs": [
    {
     "data": {
      "text/plain": [
       "38"
      ]
     },
     "execution_count": 131,
     "metadata": {},
     "output_type": "execute_result"
    }
   ],
   "source": [
    "lista_alunos[1]['idade']"
   ]
  },
  {
   "cell_type": "code",
   "execution_count": 157,
   "metadata": {},
   "outputs": [],
   "source": [
    "familia = [{\n",
    "    'nome':'Adriana',\n",
    "    'grau': 'irma',\n",
    "    'idade':36\n",
    "}, {\n",
    "    'nome': 'Wilson',\n",
    "    'grau': 'irmao',\n",
    "    'idade':32\n",
    "}, \n",
    "{\n",
    "    'nome': 'Ritsuko',\n",
    "    'grau':'mae',\n",
    "    'idade':64\n",
    "}]"
   ]
  },
  {
   "cell_type": "code",
   "execution_count": 133,
   "metadata": {},
   "outputs": [
    {
     "data": {
      "text/plain": [
       "[{'nome': 'Adriana', 'grau': 'irma', 'idade': 36},\n",
       " {'nome': 'Wilson', 'grau': 'irmao', 29: 32},\n",
       " {'nome': 'Ritsuko', 'grau': 'mae', 'idade': 64}]"
      ]
     },
     "execution_count": 133,
     "metadata": {},
     "output_type": "execute_result"
    }
   ],
   "source": [
    "familia"
   ]
  },
  {
   "cell_type": "code",
   "execution_count": 135,
   "metadata": {},
   "outputs": [
    {
     "data": {
      "text/plain": [
       "'Adriana'"
      ]
     },
     "execution_count": 135,
     "metadata": {},
     "output_type": "execute_result"
    }
   ],
   "source": [
    "familia[0]['nome']"
   ]
  },
  {
   "cell_type": "code",
   "execution_count": 138,
   "metadata": {},
   "outputs": [
    {
     "data": {
      "text/plain": [
       "'irmao'"
      ]
     },
     "execution_count": 138,
     "metadata": {},
     "output_type": "execute_result"
    }
   ],
   "source": [
    "familia[1]['grau']"
   ]
  },
  {
   "cell_type": "code",
   "execution_count": 140,
   "metadata": {},
   "outputs": [],
   "source": [
    "simpson = []\n",
    "pai = {'nome': 'Hommer', 'idade': 67}\n",
    "simpson.append(pai)"
   ]
  },
  {
   "cell_type": "code",
   "execution_count": 141,
   "metadata": {},
   "outputs": [
    {
     "data": {
      "text/plain": [
       "[{'nome': 'Hommer', 'idade': 67}]"
      ]
     },
     "execution_count": 141,
     "metadata": {},
     "output_type": "execute_result"
    }
   ],
   "source": [
    "simpson"
   ]
  },
  {
   "cell_type": "code",
   "execution_count": 143,
   "metadata": {},
   "outputs": [
    {
     "name": "stdout",
     "output_type": "stream",
     "text": [
      "nome:zequinha\n",
      "idade:30\n",
      "altura:1.85\n"
     ]
    }
   ],
   "source": [
    "meus_dados = {'nome':'zequinha', 'idade':30, 'altura':1.85}\n",
    "for chave in meus_dados:\n",
    "    print(chave + ':' + str(meus_dados[chave]))"
   ]
  },
  {
   "cell_type": "code",
   "execution_count": 144,
   "metadata": {},
   "outputs": [
    {
     "name": "stdout",
     "output_type": "stream",
     "text": [
      "dict_items([('nome', 'zequinha'), ('idade', 30), ('altura', 1.85)])\n",
      "nome zequinha\n",
      "idade 30\n",
      "altura 1.85\n"
     ]
    },
    {
     "data": {
      "text/plain": [
       "dict_items([('nome', 'zequinha'), ('idade', 30), ('altura', 1.85)])"
      ]
     },
     "execution_count": 144,
     "metadata": {},
     "output_type": "execute_result"
    }
   ],
   "source": [
    "print(meus_dados.items())\n",
    "for chave, valor in meus_dados.items():\n",
    "    print(chave, valor)\n",
    "meus_dados.items()"
   ]
  },
  {
   "cell_type": "code",
   "execution_count": 147,
   "metadata": {},
   "outputs": [
    {
     "data": {
      "text/plain": [
       "[{'nome': 'Adriana', 'grau': 'irma', 'idade': 36},\n",
       " {'nome': 'Wilson', 'grau': 'irmao', 29: 32},\n",
       " {'nome': 'Ritsuko', 'grau': 'mae', 'idade': 64}]"
      ]
     },
     "execution_count": 147,
     "metadata": {},
     "output_type": "execute_result"
    }
   ],
   "source": [
    "familia "
   ]
  },
  {
   "cell_type": "code",
   "execution_count": 158,
   "metadata": {},
   "outputs": [
    {
     "name": "stdout",
     "output_type": "stream",
     "text": [
      "Adriana 36\n",
      "Wilson 32\n",
      "Ritsuko 64\n"
     ]
    }
   ],
   "source": [
    "for parente in familia:\n",
    "    print(parente[\"nome\"], parente['idade'])"
   ]
  },
  {
   "cell_type": "code",
   "execution_count": 159,
   "metadata": {},
   "outputs": [
    {
     "name": "stdout",
     "output_type": "stream",
     "text": [
      "nome Adriana\n",
      "grau irma\n",
      "idade 36\n",
      "--------------------------------------------------\n",
      "nome Wilson\n",
      "grau irmao\n",
      "idade 32\n",
      "--------------------------------------------------\n",
      "nome Ritsuko\n",
      "grau mae\n",
      "idade 64\n",
      "--------------------------------------------------\n"
     ]
    }
   ],
   "source": [
    "for membro in familia:\n",
    "    for chave,valor in membro.items():\n",
    "        print(chave,valor)\n",
    "    print(\"-\" * 50)"
   ]
  },
  {
   "cell_type": "code",
   "execution_count": 160,
   "metadata": {},
   "outputs": [
    {
     "data": {
      "text/plain": [
       "2"
      ]
     },
     "execution_count": 160,
     "metadata": {},
     "output_type": "execute_result"
    }
   ],
   "source": [
    "True + True"
   ]
  },
  {
   "cell_type": "code",
   "execution_count": 161,
   "metadata": {},
   "outputs": [
    {
     "data": {
      "text/plain": [
       "True"
      ]
     },
     "execution_count": 161,
     "metadata": {},
     "output_type": "execute_result"
    }
   ],
   "source": [
    "1 == 1"
   ]
  },
  {
   "cell_type": "code",
   "execution_count": 162,
   "metadata": {},
   "outputs": [
    {
     "data": {
      "text/plain": [
       "False"
      ]
     },
     "execution_count": 162,
     "metadata": {},
     "output_type": "execute_result"
    }
   ],
   "source": [
    "1 != 1"
   ]
  },
  {
   "cell_type": "code",
   "execution_count": 163,
   "metadata": {},
   "outputs": [
    {
     "data": {
      "text/plain": [
       "True"
      ]
     },
     "execution_count": 163,
     "metadata": {},
     "output_type": "execute_result"
    }
   ],
   "source": [
    "not 1!=1"
   ]
  },
  {
   "cell_type": "code",
   "execution_count": 164,
   "metadata": {},
   "outputs": [
    {
     "name": "stdout",
     "output_type": "stream",
     "text": [
      "1 é igual a 1\n"
     ]
    }
   ],
   "source": [
    "if 5==2 or 1==1:\n",
    "    print(\"1 é igual a 1\")"
   ]
  },
  {
   "cell_type": "code",
   "execution_count": 166,
   "metadata": {},
   "outputs": [
    {
     "name": "stdout",
     "output_type": "stream",
     "text": [
      "2 não é igual a 1\n"
     ]
    }
   ],
   "source": [
    "if 2==1:\n",
    "    print(\"2 é igual a 1\")\n",
    "elif 1!=1:\n",
    "    print(\"1 é igual a 1\")\n",
    "elif 3==1:\n",
    "    print(\"3 é igual a 1\")\n",
    "elif 4==1:\n",
    "    print(\"4 é igual a 1\")\n",
    "else:\n",
    "    print(\"2 não é igual a 1\")"
   ]
  },
  {
   "cell_type": "code",
   "execution_count": 169,
   "metadata": {},
   "outputs": [
    {
     "name": "stdout",
     "output_type": "stream",
     "text": [
      "sou normal\n"
     ]
    }
   ],
   "source": [
    "if 1==2:\n",
    "    print('to maluco')\n",
    "else:\n",
    "    print('sou normal')"
   ]
  },
  {
   "cell_type": "code",
   "execution_count": 170,
   "metadata": {},
   "outputs": [],
   "source": [
    "lista_alturas = [1.80,1.70,1.62,1.95,1.55]"
   ]
  },
  {
   "cell_type": "code",
   "execution_count": 171,
   "metadata": {},
   "outputs": [
    {
     "name": "stdout",
     "output_type": "stream",
     "text": [
      "1.8\n",
      "1.7\n",
      "1.95\n"
     ]
    }
   ],
   "source": [
    "for altura in lista_alturas:\n",
    "    if(altura >= 1.70):\n",
    "        print(altura)"
   ]
  },
  {
   "cell_type": "code",
   "execution_count": 175,
   "metadata": {},
   "outputs": [],
   "source": [
    "lista_baixas =[]\n",
    "lista_altas=[]\n",
    "for altura in lista_alturas:\n",
    "    if(altura >= 1.70):\n",
    "        lista_altas.append(altura)\n",
    "    else:\n",
    "        lista_baixas.append(altura)"
   ]
  },
  {
   "cell_type": "code",
   "execution_count": 176,
   "metadata": {},
   "outputs": [
    {
     "data": {
      "text/plain": [
       "[1.8, 1.7, 1.95]"
      ]
     },
     "execution_count": 176,
     "metadata": {},
     "output_type": "execute_result"
    }
   ],
   "source": [
    "lista_altas"
   ]
  },
  {
   "cell_type": "code",
   "execution_count": 177,
   "metadata": {},
   "outputs": [
    {
     "data": {
      "text/plain": [
       "[1.62, 1.55]"
      ]
     },
     "execution_count": 177,
     "metadata": {},
     "output_type": "execute_result"
    }
   ],
   "source": [
    "lista_baixas"
   ]
  },
  {
   "cell_type": "code",
   "execution_count": 178,
   "metadata": {},
   "outputs": [],
   "source": [
    "outras_alturas = [1.72,1.90,1.78,1.55,1.69,1.60]"
   ]
  },
  {
   "cell_type": "code",
   "execution_count": 179,
   "metadata": {},
   "outputs": [],
   "source": [
    "outras_alturas.sort()"
   ]
  },
  {
   "cell_type": "code",
   "execution_count": 180,
   "metadata": {},
   "outputs": [
    {
     "data": {
      "text/plain": [
       "[1.55, 1.6, 1.69, 1.72, 1.78, 1.9]"
      ]
     },
     "execution_count": 180,
     "metadata": {},
     "output_type": "execute_result"
    }
   ],
   "source": [
    "outras_alturas"
   ]
  },
  {
   "cell_type": "code",
   "execution_count": 181,
   "metadata": {},
   "outputs": [],
   "source": [
    "def soma_tudo(lista):\n",
    "    total = 0\n",
    "    for item in lista:\n",
    "        total = total + item\n",
    "    return total"
   ]
  },
  {
   "cell_type": "code",
   "execution_count": 182,
   "metadata": {},
   "outputs": [
    {
     "data": {
      "text/plain": [
       "8.33"
      ]
     },
     "execution_count": 182,
     "metadata": {},
     "output_type": "execute_result"
    }
   ],
   "source": [
    "soma_tudo(alturas)"
   ]
  },
  {
   "cell_type": "code",
   "execution_count": 184,
   "metadata": {},
   "outputs": [
    {
     "data": {
      "text/plain": [
       "21"
      ]
     },
     "execution_count": 184,
     "metadata": {},
     "output_type": "execute_result"
    }
   ],
   "source": [
    "soma_tudo([1,2,3,4,5,6])"
   ]
  },
  {
   "cell_type": "code",
   "execution_count": 185,
   "metadata": {},
   "outputs": [
    {
     "name": "stdout",
     "output_type": "stream",
     "text": [
      "[1.72, 1.78, 1.9]\n",
      "[1.55, 1.6, 1.69]\n"
     ]
    }
   ],
   "source": [
    "def separa_pessoas_altas_e_baixas(pessoas):\n",
    "    pessoas_altas = []\n",
    "    pessoas_baixas = []\n",
    "    \n",
    "    for altura in pessoas:\n",
    "        if(altura > 1.70):\n",
    "            pessoas_altas.append(altura)\n",
    "        else:\n",
    "            pessoas_baixas.append(altura)\n",
    "    return pessoas_altas, pessoas_baixas\n",
    "\n",
    "altinhos,baixinhos = separa_pessoas_altas_e_baixas(outras_alturas)\n",
    "print(altinhos)\n",
    "print(baixinhos)"
   ]
  },
  {
   "cell_type": "code",
   "execution_count": 186,
   "metadata": {},
   "outputs": [],
   "source": [
    "import meu_modulo"
   ]
  },
  {
   "cell_type": "code",
   "execution_count": 187,
   "metadata": {},
   "outputs": [
    {
     "data": {
      "text/plain": [
       "([1.73, 1.75, 1.8], [1.35, 1.7])"
      ]
     },
     "execution_count": 187,
     "metadata": {},
     "output_type": "execute_result"
    }
   ],
   "source": [
    "meu_modulo.separa_pessoas_altas_e_baixas(alturas)"
   ]
  },
  {
   "cell_type": "code",
   "execution_count": null,
   "metadata": {},
   "outputs": [],
   "source": []
  }
 ],
 "metadata": {
  "kernelspec": {
   "display_name": "Python 3",
   "language": "python",
   "name": "python3"
  },
  "language_info": {
   "codemirror_mode": {
    "name": "ipython",
    "version": 3
   },
   "file_extension": ".py",
   "mimetype": "text/x-python",
   "name": "python",
   "nbconvert_exporter": "python",
   "pygments_lexer": "ipython3",
   "version": "3.6.5"
  }
 },
 "nbformat": 4,
 "nbformat_minor": 2
}
